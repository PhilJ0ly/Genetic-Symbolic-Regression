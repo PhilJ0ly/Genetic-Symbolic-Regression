{
 "cells": [
  {
   "cell_type": "markdown",
   "metadata": {},
   "source": [
    "Philippe Joly 2025\n",
    "\n",
    "# Exposition to Symbolic regression\n",
    "## A ground up implementation of a genetic programming approach to symbolic regression\n",
    "\n",
    "This serves as a complete implementation and illustration of a simple symbolic regression (SR)algorithm based on the genetic programming (GP) like mutations, crossovers, and natural selection. The notebook relies on the [**PySR**](https://arxiv.org/abs/2305.01582) library by Miles Cranmer and the [symbolic-regression-python](https://github.com/datarobot-community/symbolic-regression-python/tree/master) repository from *datarobot-community*"
   ]
  },
  {
   "cell_type": "markdown",
   "metadata": {},
   "source": [
    "### Setup"
   ]
  },
  {
   "cell_type": "code",
   "execution_count": 43,
   "metadata": {},
   "outputs": [],
   "source": [
    "import operator\n",
    "import numpy as np\n",
    "import matplotlib.pyplot as plt"
   ]
  },
  {
   "cell_type": "markdown",
   "metadata": {},
   "source": [
    "### Generate Functions\n",
    "\n",
    "Generate randomly distributed data from functions. These will be the functions we will want to infer!"
   ]
  },
  {
   "cell_type": "code",
   "execution_count": 44,
   "metadata": {},
   "outputs": [],
   "source": [
    "# function definitions\n",
    "\n",
    "## 1 dimensional functions\n",
    "def f1_1(x, a, b, *args):\n",
    "    return [a*x +b, f\"{a}*x +{b}\"]\n",
    "def f1_2(x, a, b, c, *args):\n",
    "    return [a*x**2 + b*x + c, f\"{a}*x**2 + {b}*x + {c}\"]\n",
    "def f1_3(x, a, b, c, d, *args):    \n",
    "    return [a*x**3 + b*x**2 + c*x + d, f\"{a}*x**3 + {b}*x**2 + {c}*x + {d}\"]\n",
    "def f1_4(x, a, b, c, d, *args):\n",
    "    return [a*np.sin(b*x+c)+d, f\"{a}*sin({b}*x + {c}) + {d}\"]\n",
    "def f1_5(x, a, b, c, *args):\n",
    "    return [a*np.exp(b*x)+c, f\"{a}*exp({b}*x) + {c}\"]\n",
    "\n",
    "## 2 dimensional functions\n",
    "def f2_1(x, y, a, b, c, *args):\n",
    "    return [a*x + b*y + c, f\"{a}*x + {b}*y + {c}\"]\n",
    "def f2_2(x, y, a, b, c, d, *args):\n",
    "    return [a*x**2 + b*y**2 + c*x*y + d, f\"{a}*x**2 + {b}*y**2 + {c}*x*y + {d}\"]\n",
    "def f2_3(x, y, a, b, c, d, e, *args):\n",
    "    f = [f1_5(x, a, b, c), f1_5(y, d, e, 0)]\n",
    "    return [f[0][0] + f[1][0], f[0][1] + \"+\"+ f[1][1]]\n",
    "def f2_4(x, y, a, b, c, d, e, *args):\n",
    "    return [a*np.sin(b*x)*np.exp(c*y)+d*x**2+e*x*y, f\"{a}*sin({b}*x)*exp({c}*y) + {d}*x**2 + {e}*x*y\"]\n",
    "\n",
    "## 3 dimensional functions  \n",
    "def f3_1(x, y, z, a, b, c, d, *args):\n",
    "    return [a*x + b*y + c*z + d, f\"{a}*x + {b}*y + {c}*z + {d}\"]\n",
    "def f3_2(x, y, z, a, b, *args):\n",
    "    return [a*x**2 + b*y**2 + np.exp(z*y), f\"{a}*x**2 + {b}*y**2 + exp(z*y)\"]\n",
    "\n",
    "fxns = [\n",
    "    [f1_1, f1_2, f1_3, f1_4, f1_5], \n",
    "    [f2_1, f2_2, f2_3, f2_4], \n",
    "    [f3_1, f3_2]\n",
    "    ]\n"
   ]
  },
  {
   "cell_type": "code",
   "execution_count": 45,
   "metadata": {},
   "outputs": [],
   "source": [
    "def generate_data(fxns, num_pts, num_per_f, sigma):\n",
    "    x = np.linspace(-10, 10, num_pts[0])\n",
    "\n",
    "    x2 = np.linspace(-10, 10, np.int16(np.sqrt(num_pts[1])))\n",
    "    x2, y2 = np.meshgrid(x2,x2)\n",
    "\n",
    "    x3 = np.linspace(-10, 10, np.int16(np.cbrt(num_pts[2])))\n",
    "    x3, y3, z3 = np.meshgrid(x3,x3,x3) \n",
    "\n",
    "    data = []\n",
    "\n",
    "    for num_input in range(len(fxns)):\n",
    "        data.append([])\n",
    "        for f in fxns[num_input]:\n",
    "            for i in range(num_per_f):\n",
    "                # generate random coefficients\n",
    "                a, b, c, d, e = np.random.randint(-10, 11, 5)\n",
    "\n",
    "                # generate data from functions\n",
    "                if num_input == 0:\n",
    "                    data[-1].append(f(x, a, b, c, d, e))\n",
    "                elif num_input == 1:\n",
    "                    data[-1].append(f(x2, y2, a, b, c, d, e))\n",
    "                elif num_input == 2:\n",
    "                    data[-1].append(f(x3, y3, z3, a, b, c, d, e))\n",
    "\n",
    "                # Add gaussion noise\n",
    "                noise = np.random.normal(loc=0, scale=sigma, size=data[-1][-1][0].shape)\n",
    "                data[-1][-1][0] += noise\n",
    "\n",
    "    return ([[x], [x2, y2], [x3, y3, z3]], data)\n",
    "\n",
    "def print_fxns(data):\n",
    "    for i, d in enumerate(data):\n",
    "        print(f\"Dimension {i+1}:\")\n",
    "        for j, f in enumerate(d):\n",
    "            print(f\"Function {j+1}: {f[1]}\")\n",
    "        print()"
   ]
  },
  {
   "cell_type": "code",
   "execution_count": 46,
   "metadata": {},
   "outputs": [
    {
     "name": "stdout",
     "output_type": "stream",
     "text": [
      "Dimension 1:\n",
      "Function 1: -3*x +-6\n",
      "Function 2: 6*x +2\n",
      "Function 3: 1*x +1\n",
      "Function 4: 5*x**2 + 5*x + -10\n",
      "Function 5: 9*x**2 + 4*x + -3\n",
      "Function 6: -2*x**2 + -6*x + 9\n",
      "Function 7: -9*x**3 + -2*x**2 + -9*x + 8\n",
      "Function 8: -10*x**3 + -10*x**2 + 5*x + -2\n",
      "Function 9: -5*x**3 + 2*x**2 + -6*x + 3\n",
      "Function 10: 9*sin(8*x + -5) + 7\n",
      "Function 11: 2*sin(-1*x + 0) + 8\n",
      "Function 12: -7*sin(9*x + -4) + 8\n",
      "Function 13: 5*exp(-7*x) + 10\n",
      "Function 14: 7*exp(9*x) + 3\n",
      "Function 15: 10*exp(2*x) + 7\n",
      "\n",
      "Dimension 2:\n",
      "Function 1: -9*x + -9*y + -2\n",
      "Function 2: 3*x + -7*y + -8\n",
      "Function 3: -9*x + -3*y + -2\n",
      "Function 4: 7*x**2 + 1*y**2 + -4*x*y + 3\n",
      "Function 5: 4*x**2 + -1*y**2 + 7*x*y + 9\n",
      "Function 6: 6*x**2 + -6*y**2 + 4*x*y + 0\n",
      "Function 7: 5*exp(9*x) + 3+10*exp(-1*x) + 0\n",
      "Function 8: -5*exp(3*x) + 6+6*exp(-5*x) + 0\n",
      "Function 9: -6*exp(3*x) + 5+-6*exp(5*x) + 0\n",
      "Function 10: -9*sin(9*x)*exp(10*y) + -1*x**2 + -10*x*y\n",
      "Function 11: 5*sin(-4*x)*exp(7*y) + -6*x**2 + 4*x*y\n",
      "Function 12: 6*sin(7*x)*exp(-4*y) + 4*x**2 + 6*x*y\n",
      "\n",
      "Dimension 3:\n",
      "Function 1: -7*x + 8*y + 1*z + -10\n",
      "Function 2: -7*x + 3*y + 1*z + -2\n",
      "Function 3: -7*x + 3*y + 1*z + -9\n",
      "Function 4: -7*x**2 + 4*y**2 + exp(z*y)\n",
      "Function 5: -10*x**2 + 1*y**2 + exp(z*y)\n",
      "Function 6: 8*x**2 + -10*y**2 + exp(z*y)\n",
      "\n"
     ]
    }
   ],
   "source": [
    "X, data = generate_data(fxns, num_pts=[100, 10000, 1000000], num_per_f=3, sigma=0.1)\n",
    "\n",
    "print_fxns(data)"
   ]
  }
 ],
 "metadata": {
  "kernelspec": {
   "display_name": "symbolic_regression",
   "language": "python",
   "name": "python3"
  },
  "language_info": {
   "codemirror_mode": {
    "name": "ipython",
    "version": 3
   },
   "file_extension": ".py",
   "mimetype": "text/x-python",
   "name": "python",
   "nbconvert_exporter": "python",
   "pygments_lexer": "ipython3",
   "version": "3.12.2"
  }
 },
 "nbformat": 4,
 "nbformat_minor": 2
}
